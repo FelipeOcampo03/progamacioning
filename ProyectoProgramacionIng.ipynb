{
 "cells": [
  {
   "attachments": {},
   "cell_type": "markdown",
   "metadata": {},
   "source": [
    "Proyecto"
   ]
  },
  {
   "cell_type": "code",
   "execution_count": 2,
   "metadata": {},
   "outputs": [],
   "source": [
    "#Improtamos las librerias\n",
    "import matplotlib.pyplot as plt\n",
    "import pandas as pd\n",
    "import numpy as np"
   ]
  },
  {
   "attachments": {},
   "cell_type": "markdown",
   "metadata": {},
   "source": [
    "Cálculo del espectro UV promedio referente a las tres medidas tomadas de la concentración de 1 (mg/ml) de la solución de Ibuprofeno"
   ]
  },
  {
   "cell_type": "code",
   "execution_count": 10,
   "metadata": {},
   "outputs": [
    {
     "data": {
      "text/html": [
       "<div>\n",
       "<style scoped>\n",
       "    .dataframe tbody tr th:only-of-type {\n",
       "        vertical-align: middle;\n",
       "    }\n",
       "\n",
       "    .dataframe tbody tr th {\n",
       "        vertical-align: top;\n",
       "    }\n",
       "\n",
       "    .dataframe thead th {\n",
       "        text-align: right;\n",
       "    }\n",
       "</style>\n",
       "<table border=\"1\" class=\"dataframe\">\n",
       "  <thead>\n",
       "    <tr style=\"text-align: right;\">\n",
       "      <th></th>\n",
       "      <th>wavelength</th>\n",
       "      <th>value (m1_1)</th>\n",
       "      <th>value (m1_2)</th>\n",
       "      <th>value (m1_3)</th>\n",
       "    </tr>\n",
       "  </thead>\n",
       "  <tbody>\n",
       "    <tr>\n",
       "      <th>0</th>\n",
       "      <td>220</td>\n",
       "      <td>2.222</td>\n",
       "      <td>2.187</td>\n",
       "      <td>2.187</td>\n",
       "    </tr>\n",
       "    <tr>\n",
       "      <th>1</th>\n",
       "      <td>221</td>\n",
       "      <td>2.222</td>\n",
       "      <td>2.187</td>\n",
       "      <td>2.187</td>\n",
       "    </tr>\n",
       "    <tr>\n",
       "      <th>2</th>\n",
       "      <td>222</td>\n",
       "      <td>2.222</td>\n",
       "      <td>2.187</td>\n",
       "      <td>2.187</td>\n",
       "    </tr>\n",
       "    <tr>\n",
       "      <th>3</th>\n",
       "      <td>223</td>\n",
       "      <td>2.222</td>\n",
       "      <td>2.187</td>\n",
       "      <td>2.187</td>\n",
       "    </tr>\n",
       "    <tr>\n",
       "      <th>4</th>\n",
       "      <td>224</td>\n",
       "      <td>2.222</td>\n",
       "      <td>2.187</td>\n",
       "      <td>2.155</td>\n",
       "    </tr>\n",
       "    <tr>\n",
       "      <th>...</th>\n",
       "      <td>...</td>\n",
       "      <td>...</td>\n",
       "      <td>...</td>\n",
       "      <td>...</td>\n",
       "    </tr>\n",
       "    <tr>\n",
       "      <th>176</th>\n",
       "      <td>396</td>\n",
       "      <td>0.083</td>\n",
       "      <td>0.087</td>\n",
       "      <td>0.086</td>\n",
       "    </tr>\n",
       "    <tr>\n",
       "      <th>177</th>\n",
       "      <td>397</td>\n",
       "      <td>0.083</td>\n",
       "      <td>0.086</td>\n",
       "      <td>0.086</td>\n",
       "    </tr>\n",
       "    <tr>\n",
       "      <th>178</th>\n",
       "      <td>398</td>\n",
       "      <td>0.083</td>\n",
       "      <td>0.086</td>\n",
       "      <td>0.087</td>\n",
       "    </tr>\n",
       "    <tr>\n",
       "      <th>179</th>\n",
       "      <td>399</td>\n",
       "      <td>0.083</td>\n",
       "      <td>0.086</td>\n",
       "      <td>0.087</td>\n",
       "    </tr>\n",
       "    <tr>\n",
       "      <th>180</th>\n",
       "      <td>400</td>\n",
       "      <td>0.083</td>\n",
       "      <td>0.086</td>\n",
       "      <td>0.086</td>\n",
       "    </tr>\n",
       "  </tbody>\n",
       "</table>\n",
       "<p>181 rows × 4 columns</p>\n",
       "</div>"
      ],
      "text/plain": [
       "     wavelength  value (m1_1)  value (m1_2)  value (m1_3)\n",
       "0           220         2.222         2.187         2.187\n",
       "1           221         2.222         2.187         2.187\n",
       "2           222         2.222         2.187         2.187\n",
       "3           223         2.222         2.187         2.187\n",
       "4           224         2.222         2.187         2.155\n",
       "..          ...           ...           ...           ...\n",
       "176         396         0.083         0.087         0.086\n",
       "177         397         0.083         0.086         0.086\n",
       "178         398         0.083         0.086         0.087\n",
       "179         399         0.083         0.086         0.087\n",
       "180         400         0.083         0.086         0.086\n",
       "\n",
       "[181 rows x 4 columns]"
      ]
     },
     "execution_count": 10,
     "metadata": {},
     "output_type": "execute_result"
    }
   ],
   "source": [
    "#Lectura de datos \n",
    "TablaC1= pd.read_excel('Medidas c1.xlsx')\n",
    "TablaC1"
   ]
  },
  {
   "cell_type": "code",
   "execution_count": 22,
   "metadata": {},
   "outputs": [],
   "source": [
    "#Seleccionamos los datos de forma individual\n",
    "C1M1 = TablaC1['value (m1_1)']\n",
    "C1M2 = TablaC1['value (m1_2)']\n",
    "C1M3 = TablaC1['value (m1_3)']\n",
    "wavelength = TablaC1['wavelength']\n"
   ]
  },
  {
   "cell_type": "code",
   "execution_count": 20,
   "metadata": {},
   "outputs": [],
   "source": [
    "#Se calcula el espectro promedio referente a la toma de las medidas\n",
    "C1 = (C1M1+ C1M2 + C1M3) /3\n",
    "#Se encuentra el punto máximo de absorbancia en el espectro UV\n",
    "C1AbsMax= max(C1)"
   ]
  },
  {
   "cell_type": "code",
   "execution_count": 23,
   "metadata": {},
   "outputs": [
    {
     "data": {
      "image/png": "[encoded data removed]",
      "text/plain": [
       "<Figure size 640x480 with 1 Axes>"
      ]
     },
     "metadata": {},
     "output_type": "display_data"
    }
   ],
   "source": [
    "#Graficamos el Espectro UV del Ibuprofeno en una conentración de 0,7 mg/ml\n",
    "plt.figure() \n",
    "plt.plot(wavelength, C1, color='red', linestyle='solid')\n",
    "plt.title('Ibuprofen')\n",
    "plt.xlabel('λ (nm)')\n",
    "plt.ylabel('Absorbance')\n",
    "plt.show() "
   ]
  },
  {
   "attachments": {},
   "cell_type": "markdown",
   "metadata": {},
   "source": [
    "Cálculo del espectro UV promedio y su absorbancia máxima referente a las tres medidas tomadas de la concentración de 0.5 (mg/ml) de la solución de Ibuprofeno"
   ]
  },
  {
   "cell_type": "code",
   "execution_count": 24,
   "metadata": {},
   "outputs": [
    {
     "data": {
      "text/html": [
       "<div>\n",
       "<style scoped>\n",
       "    .dataframe tbody tr th:only-of-type {\n",
       "        vertical-align: middle;\n",
       "    }\n",
       "\n",
       "    .dataframe tbody tr th {\n",
       "        vertical-align: top;\n",
       "    }\n",
       "\n",
       "    .dataframe thead th {\n",
       "        text-align: right;\n",
       "    }\n",
       "</style>\n",
       "<table border=\"1\" class=\"dataframe\">\n",
       "  <thead>\n",
       "    <tr style=\"text-align: right;\">\n",
       "      <th></th>\n",
       "      <th>wavelength</th>\n",
       "      <th>value(m2_1)</th>\n",
       "      <th>value(m2_2)</th>\n",
       "      <th>value(m2_3)</th>\n",
       "    </tr>\n",
       "  </thead>\n",
       "  <tbody>\n",
       "    <tr>\n",
       "      <th>0</th>\n",
       "      <td>220</td>\n",
       "      <td>1.300</td>\n",
       "      <td>1.329</td>\n",
       "      <td>1.347</td>\n",
       "    </tr>\n",
       "    <tr>\n",
       "      <th>1</th>\n",
       "      <td>221</td>\n",
       "      <td>1.301</td>\n",
       "      <td>1.327</td>\n",
       "      <td>1.344</td>\n",
       "    </tr>\n",
       "    <tr>\n",
       "      <th>2</th>\n",
       "      <td>222</td>\n",
       "      <td>1.285</td>\n",
       "      <td>1.314</td>\n",
       "      <td>1.328</td>\n",
       "    </tr>\n",
       "    <tr>\n",
       "      <th>3</th>\n",
       "      <td>223</td>\n",
       "      <td>1.264</td>\n",
       "      <td>1.294</td>\n",
       "      <td>1.308</td>\n",
       "    </tr>\n",
       "    <tr>\n",
       "      <th>4</th>\n",
       "      <td>224</td>\n",
       "      <td>1.240</td>\n",
       "      <td>1.269</td>\n",
       "      <td>1.283</td>\n",
       "    </tr>\n",
       "    <tr>\n",
       "      <th>...</th>\n",
       "      <td>...</td>\n",
       "      <td>...</td>\n",
       "      <td>...</td>\n",
       "      <td>...</td>\n",
       "    </tr>\n",
       "    <tr>\n",
       "      <th>176</th>\n",
       "      <td>396</td>\n",
       "      <td>0.048</td>\n",
       "      <td>0.043</td>\n",
       "      <td>0.042</td>\n",
       "    </tr>\n",
       "    <tr>\n",
       "      <th>177</th>\n",
       "      <td>397</td>\n",
       "      <td>0.048</td>\n",
       "      <td>0.043</td>\n",
       "      <td>0.042</td>\n",
       "    </tr>\n",
       "    <tr>\n",
       "      <th>178</th>\n",
       "      <td>398</td>\n",
       "      <td>0.048</td>\n",
       "      <td>0.043</td>\n",
       "      <td>0.042</td>\n",
       "    </tr>\n",
       "    <tr>\n",
       "      <th>179</th>\n",
       "      <td>399</td>\n",
       "      <td>0.048</td>\n",
       "      <td>0.043</td>\n",
       "      <td>0.042</td>\n",
       "    </tr>\n",
       "    <tr>\n",
       "      <th>180</th>\n",
       "      <td>400</td>\n",
       "      <td>0.048</td>\n",
       "      <td>0.043</td>\n",
       "      <td>0.042</td>\n",
       "    </tr>\n",
       "  </tbody>\n",
       "</table>\n",
       "<p>181 rows × 4 columns</p>\n",
       "</div>"
      ],
      "text/plain": [
       "     wavelength  value(m2_1)  value(m2_2)  value(m2_3)\n",
       "0           220        1.300        1.329        1.347\n",
       "1           221        1.301        1.327        1.344\n",
       "2           222        1.285        1.314        1.328\n",
       "3           223        1.264        1.294        1.308\n",
       "4           224        1.240        1.269        1.283\n",
       "..          ...          ...          ...          ...\n",
       "176         396        0.048        0.043        0.042\n",
       "177         397        0.048        0.043        0.042\n",
       "178         398        0.048        0.043        0.042\n",
       "179         399        0.048        0.043        0.042\n",
       "180         400        0.048        0.043        0.042\n",
       "\n",
       "[181 rows x 4 columns]"
      ]
     },
     "execution_count": 24,
     "metadata": {},
     "output_type": "execute_result"
    }
   ],
   "source": [
    "TablaC2= pd.read_excel('Medidas c2.xlsx')\n",
    "TablaC2"
   ]
  },
  {
   "cell_type": "code",
   "execution_count": 26,
   "metadata": {},
   "outputs": [],
   "source": [
    "#Seleccionamos los datos de forma individual\n",
    "C2M1 = TablaC2['value(m2_1)']\n",
    "C2M2 = TablaC2['value(m2_2)']\n",
    "C2M3 = TablaC2['value(m2_3)']\n",
    "wavelength = TablaC1['wavelength']"
   ]
  },
  {
   "cell_type": "code",
   "execution_count": 27,
   "metadata": {},
   "outputs": [],
   "source": [
    "#Se calcula el espectro promedio referente a la toma de las medidas\n",
    "C2 = (C2M1+ C2M2 + C2M3) /3\n",
    "#Se encuentra el punto máximo de absorbancia en el espectro UV\n",
    "C2AbsMax= max(C2)"
   ]
  },
  {
   "cell_type": "code",
   "execution_count": 28,
   "metadata": {},
   "outputs": [
    {
     "data": {
      "image/png": "[encoded data removed]",
      "text/plain": [
       "<Figure size 640x480 with 1 Axes>"
      ]
     },
     "metadata": {},
     "output_type": "display_data"
    }
   ],
   "source": [
    "#Graficamos el Espectro UV del Ibuprofeno en una conentración de 0,7 mg/ml\n",
    "plt.figure() \n",
    "plt.plot(wavelength, C2, color='red', linestyle='solid')\n",
    "plt.title('Ibuprofen')\n",
    "plt.xlabel('λ (nm)')\n",
    "plt.ylabel('Absorbance')\n",
    "plt.show() "
   ]
  },
  {
   "attachments": {},
   "cell_type": "markdown",
   "metadata": {},
   "source": [
    "Cálculo del espectro UV promedio y su absorbancia máxima referente a las tres medidas tomadas de la concentración de 0.25 (mg/ml) de la solución de Ibuprofeno"
   ]
  },
  {
   "cell_type": "code",
   "execution_count": 29,
   "metadata": {},
   "outputs": [
    {
     "data": {
      "text/html": [
       "<div>\n",
       "<style scoped>\n",
       "    .dataframe tbody tr th:only-of-type {\n",
       "        vertical-align: middle;\n",
       "    }\n",
       "\n",
       "    .dataframe tbody tr th {\n",
       "        vertical-align: top;\n",
       "    }\n",
       "\n",
       "    .dataframe thead th {\n",
       "        text-align: right;\n",
       "    }\n",
       "</style>\n",
       "<table border=\"1\" class=\"dataframe\">\n",
       "  <thead>\n",
       "    <tr style=\"text-align: right;\">\n",
       "      <th></th>\n",
       "      <th>wavelength</th>\n",
       "      <th>value(m3_1)</th>\n",
       "      <th>value(m3_2)</th>\n",
       "      <th>value(m3_3)</th>\n",
       "    </tr>\n",
       "  </thead>\n",
       "  <tbody>\n",
       "    <tr>\n",
       "      <th>0</th>\n",
       "      <td>220</td>\n",
       "      <td>0.679</td>\n",
       "      <td>0.698</td>\n",
       "      <td>0.704</td>\n",
       "    </tr>\n",
       "    <tr>\n",
       "      <th>1</th>\n",
       "      <td>221</td>\n",
       "      <td>0.678</td>\n",
       "      <td>0.693</td>\n",
       "      <td>0.702</td>\n",
       "    </tr>\n",
       "    <tr>\n",
       "      <th>2</th>\n",
       "      <td>222</td>\n",
       "      <td>0.670</td>\n",
       "      <td>0.684</td>\n",
       "      <td>0.692</td>\n",
       "    </tr>\n",
       "    <tr>\n",
       "      <th>3</th>\n",
       "      <td>223</td>\n",
       "      <td>0.657</td>\n",
       "      <td>0.672</td>\n",
       "      <td>0.680</td>\n",
       "    </tr>\n",
       "    <tr>\n",
       "      <th>4</th>\n",
       "      <td>224</td>\n",
       "      <td>0.644</td>\n",
       "      <td>0.660</td>\n",
       "      <td>0.666</td>\n",
       "    </tr>\n",
       "    <tr>\n",
       "      <th>...</th>\n",
       "      <td>...</td>\n",
       "      <td>...</td>\n",
       "      <td>...</td>\n",
       "      <td>...</td>\n",
       "    </tr>\n",
       "    <tr>\n",
       "      <th>176</th>\n",
       "      <td>396</td>\n",
       "      <td>0.025</td>\n",
       "      <td>0.026</td>\n",
       "      <td>0.027</td>\n",
       "    </tr>\n",
       "    <tr>\n",
       "      <th>177</th>\n",
       "      <td>397</td>\n",
       "      <td>0.025</td>\n",
       "      <td>0.026</td>\n",
       "      <td>0.027</td>\n",
       "    </tr>\n",
       "    <tr>\n",
       "      <th>178</th>\n",
       "      <td>398</td>\n",
       "      <td>0.025</td>\n",
       "      <td>0.026</td>\n",
       "      <td>0.026</td>\n",
       "    </tr>\n",
       "    <tr>\n",
       "      <th>179</th>\n",
       "      <td>399</td>\n",
       "      <td>0.025</td>\n",
       "      <td>0.026</td>\n",
       "      <td>0.027</td>\n",
       "    </tr>\n",
       "    <tr>\n",
       "      <th>180</th>\n",
       "      <td>400</td>\n",
       "      <td>0.025</td>\n",
       "      <td>0.026</td>\n",
       "      <td>0.027</td>\n",
       "    </tr>\n",
       "  </tbody>\n",
       "</table>\n",
       "<p>181 rows × 4 columns</p>\n",
       "</div>"
      ],
      "text/plain": [
       "     wavelength  value(m3_1)  value(m3_2)  value(m3_3)\n",
       "0           220        0.679        0.698        0.704\n",
       "1           221        0.678        0.693        0.702\n",
       "2           222        0.670        0.684        0.692\n",
       "3           223        0.657        0.672        0.680\n",
       "4           224        0.644        0.660        0.666\n",
       "..          ...          ...          ...          ...\n",
       "176         396        0.025        0.026        0.027\n",
       "177         397        0.025        0.026        0.027\n",
       "178         398        0.025        0.026        0.026\n",
       "179         399        0.025        0.026        0.027\n",
       "180         400        0.025        0.026        0.027\n",
       "\n",
       "[181 rows x 4 columns]"
      ]
     },
     "execution_count": 29,
     "metadata": {},
     "output_type": "execute_result"
    }
   ],
   "source": [
    "TablaC3= pd.read_excel('Medidas c3.xlsx')\n",
    "TablaC3"
   ]
  },
  {
   "cell_type": "code",
   "execution_count": 30,
   "metadata": {},
   "outputs": [],
   "source": [
    "C3M1 = TablaC3['value(m3_1)']\n",
    "C3M2 = TablaC3['value(m3_2)']\n",
    "C3M3 = TablaC3['value(m3_3)']\n",
    "wavelength = TablaC1['wavelength']"
   ]
  },
  {
   "cell_type": "code",
   "execution_count": 31,
   "metadata": {},
   "outputs": [],
   "source": [
    "#Se calcula el espectro promedio referente a la toma de las medidas\n",
    "C3 = (C3M1+ C3M2 + C3M3) /3\n",
    "#Se encuentra el punto máximo de absorbancia en el espectro UV\n",
    "C3AbsMax= max(C3)"
   ]
  },
  {
   "cell_type": "code",
   "execution_count": 32,
   "metadata": {},
   "outputs": [
    {
     "data": {
      "image/png": "[encoded data removed]",
      "text/plain": [
       "<Figure size 640x480 with 1 Axes>"
      ]
     },
     "metadata": {},
     "output_type": "display_data"
    }
   ],
   "source": [
    "#Graficamos el Espectro UV del Ibuprofeno\n",
    "plt.figure() \n",
    "plt.plot(wavelength, C3, color='red', linestyle='solid')\n",
    "plt.title('Ibuprofen')\n",
    "plt.xlabel('λ (nm)')\n",
    "plt.ylabel('Absorbance')\n",
    "plt.show() "
   ]
  },
  {
   "attachments": {},
   "cell_type": "markdown",
   "metadata": {},
   "source": [
    "Cálculo del espectro UV promedio y su absorbancia máxima referente a las tres medidas tomadas de la concentración de 0.125 (mg/ml) de la solución de Ibuprofeno"
   ]
  },
  {
   "cell_type": "code",
   "execution_count": 33,
   "metadata": {},
   "outputs": [
    {
     "data": {
      "text/html": [
       "<div>\n",
       "<style scoped>\n",
       "    .dataframe tbody tr th:only-of-type {\n",
       "        vertical-align: middle;\n",
       "    }\n",
       "\n",
       "    .dataframe tbody tr th {\n",
       "        vertical-align: top;\n",
       "    }\n",
       "\n",
       "    .dataframe thead th {\n",
       "        text-align: right;\n",
       "    }\n",
       "</style>\n",
       "<table border=\"1\" class=\"dataframe\">\n",
       "  <thead>\n",
       "    <tr style=\"text-align: right;\">\n",
       "      <th></th>\n",
       "      <th>wavelength</th>\n",
       "      <th>value(m4_1)</th>\n",
       "      <th>value(m4_2)</th>\n",
       "      <th>value(m4_3)</th>\n",
       "    </tr>\n",
       "  </thead>\n",
       "  <tbody>\n",
       "    <tr>\n",
       "      <th>0</th>\n",
       "      <td>220</td>\n",
       "      <td>0.383</td>\n",
       "      <td>0.389</td>\n",
       "      <td>0.394</td>\n",
       "    </tr>\n",
       "    <tr>\n",
       "      <th>1</th>\n",
       "      <td>221</td>\n",
       "      <td>0.381</td>\n",
       "      <td>0.387</td>\n",
       "      <td>0.392</td>\n",
       "    </tr>\n",
       "    <tr>\n",
       "      <th>2</th>\n",
       "      <td>222</td>\n",
       "      <td>0.376</td>\n",
       "      <td>0.382</td>\n",
       "      <td>0.387</td>\n",
       "    </tr>\n",
       "    <tr>\n",
       "      <th>3</th>\n",
       "      <td>223</td>\n",
       "      <td>0.369</td>\n",
       "      <td>0.375</td>\n",
       "      <td>0.379</td>\n",
       "    </tr>\n",
       "    <tr>\n",
       "      <th>4</th>\n",
       "      <td>224</td>\n",
       "      <td>0.361</td>\n",
       "      <td>0.366</td>\n",
       "      <td>0.371</td>\n",
       "    </tr>\n",
       "    <tr>\n",
       "      <th>...</th>\n",
       "      <td>...</td>\n",
       "      <td>...</td>\n",
       "      <td>...</td>\n",
       "      <td>...</td>\n",
       "    </tr>\n",
       "    <tr>\n",
       "      <th>176</th>\n",
       "      <td>396</td>\n",
       "      <td>0.018</td>\n",
       "      <td>0.019</td>\n",
       "      <td>0.019</td>\n",
       "    </tr>\n",
       "    <tr>\n",
       "      <th>177</th>\n",
       "      <td>397</td>\n",
       "      <td>0.018</td>\n",
       "      <td>0.019</td>\n",
       "      <td>0.019</td>\n",
       "    </tr>\n",
       "    <tr>\n",
       "      <th>178</th>\n",
       "      <td>398</td>\n",
       "      <td>0.018</td>\n",
       "      <td>0.019</td>\n",
       "      <td>0.019</td>\n",
       "    </tr>\n",
       "    <tr>\n",
       "      <th>179</th>\n",
       "      <td>399</td>\n",
       "      <td>0.018</td>\n",
       "      <td>0.019</td>\n",
       "      <td>0.019</td>\n",
       "    </tr>\n",
       "    <tr>\n",
       "      <th>180</th>\n",
       "      <td>400</td>\n",
       "      <td>0.018</td>\n",
       "      <td>0.019</td>\n",
       "      <td>0.019</td>\n",
       "    </tr>\n",
       "  </tbody>\n",
       "</table>\n",
       "<p>181 rows × 4 columns</p>\n",
       "</div>"
      ],
      "text/plain": [
       "     wavelength  value(m4_1)  value(m4_2)  value(m4_3)\n",
       "0           220        0.383        0.389        0.394\n",
       "1           221        0.381        0.387        0.392\n",
       "2           222        0.376        0.382        0.387\n",
       "3           223        0.369        0.375        0.379\n",
       "4           224        0.361        0.366        0.371\n",
       "..          ...          ...          ...          ...\n",
       "176         396        0.018        0.019        0.019\n",
       "177         397        0.018        0.019        0.019\n",
       "178         398        0.018        0.019        0.019\n",
       "179         399        0.018        0.019        0.019\n",
       "180         400        0.018        0.019        0.019\n",
       "\n",
       "[181 rows x 4 columns]"
      ]
     },
     "execution_count": 33,
     "metadata": {},
     "output_type": "execute_result"
    }
   ],
   "source": [
    "TablaC4= pd.read_excel('Medidas c4.xlsx')\n",
    "TablaC4"
   ]
  },
  {
   "cell_type": "code",
   "execution_count": 34,
   "metadata": {},
   "outputs": [],
   "source": [
    "C4M1 = TablaC4['value(m4_1)']\n",
    "C4M2 = TablaC4['value(m4_2)']\n",
    "C4M3 = TablaC4['value(m4_3)']"
   ]
  },
  {
   "cell_type": "code",
   "execution_count": 46,
   "metadata": {},
   "outputs": [],
   "source": [
    "#Se calcula el espectro promedio referente a la toma de las medidas\n",
    "C4 = (C4M1+ C4M2 + C4M3) /3\n",
    "#Se encuentra el punto máximo de absorbancia en el espectro UV\n",
    "C4AbsMax= max(C4)"
   ]
  },
  {
   "cell_type": "code",
   "execution_count": 36,
   "metadata": {},
   "outputs": [
    {
     "data": {
      "image/png": "[encoded data removed]",
      "text/plain": [
       "<Figure size 640x480 with 1 Axes>"
      ]
     },
     "metadata": {},
     "output_type": "display_data"
    }
   ],
   "source": [
    "#Graficamos el Espectro UV del Ibuprofeno\n",
    "plt.figure() \n",
    "plt.plot(wavelength, C4, color='red', linestyle='solid')\n",
    "plt.title('Ibuprofen')\n",
    "plt.xlabel('λ (nm)')\n",
    "plt.ylabel('Absorbance')\n",
    "plt.show() "
   ]
  },
  {
   "attachments": {},
   "cell_type": "markdown",
   "metadata": {},
   "source": [
    "Cálculo del espectro UV promedio referente a las tres medidas tomadas de la concentración de 0.0625(mg/ml) de la solución de Ibuprofeno"
   ]
  },
  {
   "cell_type": "code",
   "execution_count": 37,
   "metadata": {},
   "outputs": [
    {
     "data": {
      "text/html": [
       "<div>\n",
       "<style scoped>\n",
       "    .dataframe tbody tr th:only-of-type {\n",
       "        vertical-align: middle;\n",
       "    }\n",
       "\n",
       "    .dataframe tbody tr th {\n",
       "        vertical-align: top;\n",
       "    }\n",
       "\n",
       "    .dataframe thead th {\n",
       "        text-align: right;\n",
       "    }\n",
       "</style>\n",
       "<table border=\"1\" class=\"dataframe\">\n",
       "  <thead>\n",
       "    <tr style=\"text-align: right;\">\n",
       "      <th></th>\n",
       "      <th>wavelength</th>\n",
       "      <th>value(m5_1)</th>\n",
       "      <th>value(m5_2)</th>\n",
       "      <th>value(m5_3)</th>\n",
       "    </tr>\n",
       "  </thead>\n",
       "  <tbody>\n",
       "    <tr>\n",
       "      <th>0</th>\n",
       "      <td>220</td>\n",
       "      <td>0.219</td>\n",
       "      <td>0.226</td>\n",
       "      <td>0.237</td>\n",
       "    </tr>\n",
       "    <tr>\n",
       "      <th>1</th>\n",
       "      <td>221</td>\n",
       "      <td>0.224</td>\n",
       "      <td>0.225</td>\n",
       "      <td>0.235</td>\n",
       "    </tr>\n",
       "    <tr>\n",
       "      <th>2</th>\n",
       "      <td>222</td>\n",
       "      <td>0.220</td>\n",
       "      <td>0.222</td>\n",
       "      <td>0.232</td>\n",
       "    </tr>\n",
       "    <tr>\n",
       "      <th>3</th>\n",
       "      <td>223</td>\n",
       "      <td>0.215</td>\n",
       "      <td>0.217</td>\n",
       "      <td>0.227</td>\n",
       "    </tr>\n",
       "    <tr>\n",
       "      <th>4</th>\n",
       "      <td>224</td>\n",
       "      <td>0.206</td>\n",
       "      <td>0.213</td>\n",
       "      <td>0.223</td>\n",
       "    </tr>\n",
       "    <tr>\n",
       "      <th>...</th>\n",
       "      <td>...</td>\n",
       "      <td>...</td>\n",
       "      <td>...</td>\n",
       "      <td>...</td>\n",
       "    </tr>\n",
       "    <tr>\n",
       "      <th>176</th>\n",
       "      <td>396</td>\n",
       "      <td>0.016</td>\n",
       "      <td>0.019</td>\n",
       "      <td>0.026</td>\n",
       "    </tr>\n",
       "    <tr>\n",
       "      <th>177</th>\n",
       "      <td>397</td>\n",
       "      <td>0.016</td>\n",
       "      <td>0.019</td>\n",
       "      <td>0.026</td>\n",
       "    </tr>\n",
       "    <tr>\n",
       "      <th>178</th>\n",
       "      <td>398</td>\n",
       "      <td>0.016</td>\n",
       "      <td>0.019</td>\n",
       "      <td>0.026</td>\n",
       "    </tr>\n",
       "    <tr>\n",
       "      <th>179</th>\n",
       "      <td>399</td>\n",
       "      <td>0.016</td>\n",
       "      <td>0.018</td>\n",
       "      <td>0.026</td>\n",
       "    </tr>\n",
       "    <tr>\n",
       "      <th>180</th>\n",
       "      <td>400</td>\n",
       "      <td>0.016</td>\n",
       "      <td>0.019</td>\n",
       "      <td>0.027</td>\n",
       "    </tr>\n",
       "  </tbody>\n",
       "</table>\n",
       "<p>181 rows × 4 columns</p>\n",
       "</div>"
      ],
      "text/plain": [
       "     wavelength  value(m5_1)  value(m5_2)  value(m5_3)\n",
       "0           220        0.219        0.226        0.237\n",
       "1           221        0.224        0.225        0.235\n",
       "2           222        0.220        0.222        0.232\n",
       "3           223        0.215        0.217        0.227\n",
       "4           224        0.206        0.213        0.223\n",
       "..          ...          ...          ...          ...\n",
       "176         396        0.016        0.019        0.026\n",
       "177         397        0.016        0.019        0.026\n",
       "178         398        0.016        0.019        0.026\n",
       "179         399        0.016        0.018        0.026\n",
       "180         400        0.016        0.019        0.027\n",
       "\n",
       "[181 rows x 4 columns]"
      ]
     },
     "execution_count": 37,
     "metadata": {},
     "output_type": "execute_result"
    }
   ],
   "source": [
    "TablaC5= pd.read_excel('Medidas c5.xlsx')\n",
    "TablaC5"
   ]
  },
  {
   "cell_type": "code",
   "execution_count": 39,
   "metadata": {},
   "outputs": [],
   "source": [
    "C5M1 = TablaC5['value(m5_1)']\n",
    "C5M2 = TablaC5['value(m5_2)']\n",
    "C5M3 = TablaC5['value(m5_3)']"
   ]
  },
  {
   "cell_type": "code",
   "execution_count": 45,
   "metadata": {},
   "outputs": [],
   "source": [
    "#Se calcula el espectro promedio referente a la toma de las medidas\n",
    "C5 = (C5M1+ C5M2 + C5M3) /3\n",
    "#Se encuentra el punto máximo de absorbancia en el espectro UV\n",
    "C5AbsMax= max(C5)"
   ]
  },
  {
   "cell_type": "code",
   "execution_count": 41,
   "metadata": {},
   "outputs": [
    {
     "data": {
      "image/png": "[encoded data removed]",
      "text/plain": [
       "<Figure size 640x480 with 1 Axes>"
      ]
     },
     "metadata": {},
     "output_type": "display_data"
    }
   ],
   "source": [
    "#Graficamos el Espectro UV del Ibuprofeno\n",
    "plt.figure() \n",
    "plt.plot(wavelength, C5, color='red', linestyle='solid')\n",
    "plt.title('Ibuprofen')\n",
    "plt.xlabel('λ (nm)')\n",
    "plt.ylabel('Absorbance')\n",
    "plt.show() "
   ]
  },
  {
   "attachments": {},
   "cell_type": "markdown",
   "metadata": {},
   "source": [
    "Cálculo del espectro UV promedio referente a las tres medidas tomadas de la concentración de 0.03125(mg/ml) de la solución de Ibuprofeno"
   ]
  },
  {
   "cell_type": "code",
   "execution_count": 42,
   "metadata": {},
   "outputs": [
    {
     "data": {
      "text/html": [
       "<div>\n",
       "<style scoped>\n",
       "    .dataframe tbody tr th:only-of-type {\n",
       "        vertical-align: middle;\n",
       "    }\n",
       "\n",
       "    .dataframe tbody tr th {\n",
       "        vertical-align: top;\n",
       "    }\n",
       "\n",
       "    .dataframe thead th {\n",
       "        text-align: right;\n",
       "    }\n",
       "</style>\n",
       "<table border=\"1\" class=\"dataframe\">\n",
       "  <thead>\n",
       "    <tr style=\"text-align: right;\">\n",
       "      <th></th>\n",
       "      <th>wavelength</th>\n",
       "      <th>value(m6_1)</th>\n",
       "      <th>value(m6_2)</th>\n",
       "      <th>value(m6_3)</th>\n",
       "    </tr>\n",
       "  </thead>\n",
       "  <tbody>\n",
       "    <tr>\n",
       "      <th>0</th>\n",
       "      <td>220</td>\n",
       "      <td>0.137</td>\n",
       "      <td>0.133</td>\n",
       "      <td>0.133</td>\n",
       "    </tr>\n",
       "    <tr>\n",
       "      <th>1</th>\n",
       "      <td>221</td>\n",
       "      <td>0.136</td>\n",
       "      <td>0.131</td>\n",
       "      <td>0.131</td>\n",
       "    </tr>\n",
       "    <tr>\n",
       "      <th>2</th>\n",
       "      <td>222</td>\n",
       "      <td>0.133</td>\n",
       "      <td>0.128</td>\n",
       "      <td>0.129</td>\n",
       "    </tr>\n",
       "    <tr>\n",
       "      <th>3</th>\n",
       "      <td>223</td>\n",
       "      <td>0.130</td>\n",
       "      <td>0.127</td>\n",
       "      <td>0.126</td>\n",
       "    </tr>\n",
       "    <tr>\n",
       "      <th>4</th>\n",
       "      <td>224</td>\n",
       "      <td>0.128</td>\n",
       "      <td>0.124</td>\n",
       "      <td>0.124</td>\n",
       "    </tr>\n",
       "    <tr>\n",
       "      <th>...</th>\n",
       "      <td>...</td>\n",
       "      <td>...</td>\n",
       "      <td>...</td>\n",
       "      <td>...</td>\n",
       "    </tr>\n",
       "    <tr>\n",
       "      <th>176</th>\n",
       "      <td>396</td>\n",
       "      <td>0.014</td>\n",
       "      <td>0.017</td>\n",
       "      <td>0.015</td>\n",
       "    </tr>\n",
       "    <tr>\n",
       "      <th>177</th>\n",
       "      <td>397</td>\n",
       "      <td>0.014</td>\n",
       "      <td>0.016</td>\n",
       "      <td>0.015</td>\n",
       "    </tr>\n",
       "    <tr>\n",
       "      <th>178</th>\n",
       "      <td>398</td>\n",
       "      <td>0.014</td>\n",
       "      <td>0.016</td>\n",
       "      <td>0.014</td>\n",
       "    </tr>\n",
       "    <tr>\n",
       "      <th>179</th>\n",
       "      <td>399</td>\n",
       "      <td>0.014</td>\n",
       "      <td>0.016</td>\n",
       "      <td>0.014</td>\n",
       "    </tr>\n",
       "    <tr>\n",
       "      <th>180</th>\n",
       "      <td>400</td>\n",
       "      <td>0.014</td>\n",
       "      <td>0.016</td>\n",
       "      <td>0.014</td>\n",
       "    </tr>\n",
       "  </tbody>\n",
       "</table>\n",
       "<p>181 rows × 4 columns</p>\n",
       "</div>"
      ],
      "text/plain": [
       "     wavelength  value(m6_1)  value(m6_2)  value(m6_3)\n",
       "0           220        0.137        0.133        0.133\n",
       "1           221        0.136        0.131        0.131\n",
       "2           222        0.133        0.128        0.129\n",
       "3           223        0.130        0.127        0.126\n",
       "4           224        0.128        0.124        0.124\n",
       "..          ...          ...          ...          ...\n",
       "176         396        0.014        0.017        0.015\n",
       "177         397        0.014        0.016        0.015\n",
       "178         398        0.014        0.016        0.014\n",
       "179         399        0.014        0.016        0.014\n",
       "180         400        0.014        0.016        0.014\n",
       "\n",
       "[181 rows x 4 columns]"
      ]
     },
     "execution_count": 42,
     "metadata": {},
     "output_type": "execute_result"
    }
   ],
   "source": [
    "TablaC6= pd.read_excel('Medidas c6.xlsx')\n",
    "TablaC6"
   ]
  },
  {
   "cell_type": "code",
   "execution_count": 43,
   "metadata": {},
   "outputs": [],
   "source": [
    "C6M1 = TablaC6['value(m6_1)']\n",
    "C6M2 = TablaC6['value(m6_2)']\n",
    "C6M3 = TablaC6['value(m6_3)']"
   ]
  },
  {
   "cell_type": "code",
   "execution_count": 44,
   "metadata": {},
   "outputs": [],
   "source": [
    "#Se calcula el espectro promedio referente a la toma de las medidas\n",
    "C6 = (C6M1+ C6M2 + C6M3) /3\n",
    "#Se encuentra el punto máximo de absorbancia en el espectro UV\n",
    "C6AbsMax= max(C6)"
   ]
  },
  {
   "cell_type": "code",
   "execution_count": 3,
   "metadata": {},
   "outputs": [
    {
     "data": {
      "text/html": [
       "<div>\n",
       "<style scoped>\n",
       "    .dataframe tbody tr th:only-of-type {\n",
       "        vertical-align: middle;\n",
       "    }\n",
       "\n",
       "    .dataframe tbody tr th {\n",
       "        vertical-align: top;\n",
       "    }\n",
       "\n",
       "    .dataframe thead th {\n",
       "        text-align: right;\n",
       "    }\n",
       "</style>\n",
       "<table border=\"1\" class=\"dataframe\">\n",
       "  <thead>\n",
       "    <tr style=\"text-align: right;\">\n",
       "      <th></th>\n",
       "      <th>wavelength</th>\n",
       "      <th>value (M1)</th>\n",
       "      <th>value (M2)</th>\n",
       "      <th>value (M3)</th>\n",
       "      <th>value (M4)</th>\n",
       "      <th>value (M5)</th>\n",
       "      <th>value (M6)</th>\n",
       "    </tr>\n",
       "  </thead>\n",
       "  <tbody>\n",
       "    <tr>\n",
       "      <th>0</th>\n",
       "      <td>220</td>\n",
       "      <td>2.19867</td>\n",
       "      <td>1.32533</td>\n",
       "      <td>0.69367</td>\n",
       "      <td>0.38867</td>\n",
       "      <td>0.22733</td>\n",
       "      <td>0.13433</td>\n",
       "    </tr>\n",
       "    <tr>\n",
       "      <th>1</th>\n",
       "      <td>221</td>\n",
       "      <td>2.19867</td>\n",
       "      <td>1.32400</td>\n",
       "      <td>0.69100</td>\n",
       "      <td>0.38667</td>\n",
       "      <td>0.22800</td>\n",
       "      <td>0.13267</td>\n",
       "    </tr>\n",
       "    <tr>\n",
       "      <th>2</th>\n",
       "      <td>222</td>\n",
       "      <td>2.19867</td>\n",
       "      <td>1.30900</td>\n",
       "      <td>0.68200</td>\n",
       "      <td>0.38167</td>\n",
       "      <td>0.22467</td>\n",
       "      <td>0.13000</td>\n",
       "    </tr>\n",
       "    <tr>\n",
       "      <th>3</th>\n",
       "      <td>223</td>\n",
       "      <td>2.19867</td>\n",
       "      <td>1.28867</td>\n",
       "      <td>0.66967</td>\n",
       "      <td>0.37433</td>\n",
       "      <td>0.21967</td>\n",
       "      <td>0.12767</td>\n",
       "    </tr>\n",
       "    <tr>\n",
       "      <th>4</th>\n",
       "      <td>224</td>\n",
       "      <td>2.18800</td>\n",
       "      <td>1.26400</td>\n",
       "      <td>0.65667</td>\n",
       "      <td>0.36600</td>\n",
       "      <td>0.21400</td>\n",
       "      <td>0.12533</td>\n",
       "    </tr>\n",
       "  </tbody>\n",
       "</table>\n",
       "</div>"
      ],
      "text/plain": [
       "   wavelength  value (M1)  value (M2)  value (M3)  value (M4)  value (M5)  \\\n",
       "0         220     2.19867     1.32533     0.69367     0.38867     0.22733   \n",
       "1         221     2.19867     1.32400     0.69100     0.38667     0.22800   \n",
       "2         222     2.19867     1.30900     0.68200     0.38167     0.22467   \n",
       "3         223     2.19867     1.28867     0.66967     0.37433     0.21967   \n",
       "4         224     2.18800     1.26400     0.65667     0.36600     0.21400   \n",
       "\n",
       "   value (M6)  \n",
       "0     0.13433  \n",
       "1     0.13267  \n",
       "2     0.13000  \n",
       "3     0.12767  \n",
       "4     0.12533  "
      ]
     },
     "execution_count": 3,
     "metadata": {},
     "output_type": "execute_result"
    }
   ],
   "source": [
    "Tabla = pd.read_excel('medidas.xlsx') #Se utliza la libreria pandas para crear el dataframe\n",
    "Tabla.head()"
   ]
  },
  {
   "attachments": {},
   "cell_type": "markdown",
   "metadata": {},
   "source": [
    "Visualización del espectro UV del Ibuprofeno"
   ]
  },
  {
   "cell_type": "code",
   "execution_count": 7,
   "metadata": {},
   "outputs": [],
   "source": [
    "AbsorbanceM1=Tabla['value (M1)']   #Seleccionamos los datos de Aborbancia de la concentración 1 en la tabla de datos\n",
    "wavelength = Tabla['wavelength']  #Seleccionamos los datos de Longitud de Onda de la concentración 1 en la tabla de datos"
   ]
  },
  {
   "cell_type": "code",
   "execution_count": 8,
   "metadata": {},
   "outputs": [
    {
     "data": {
      "image/png": "[encoded data removed]",
      "text/plain": [
       "<Figure size 640x480 with 1 Axes>"
      ]
     },
     "metadata": {},
     "output_type": "display_data"
    }
   ],
   "source": [
    "#Graficamos el Espectro UV del Ibuprofeno en una conentración de 0,7 mg/ml\n",
    "plt.figure() \n",
    "plt.plot(wavelength, AbsorbanceM1, color='red', linestyle='solid')\n",
    "plt.title('Ibuprofen')\n",
    "plt.xlabel('λ (nm)')\n",
    "plt.ylabel('Absorbance')\n",
    "plt.show()"
   ]
  },
  {
   "attachments": {},
   "cell_type": "markdown",
   "metadata": {},
   "source": [
    "Cálculo de absorbancia máxima en cada concentración"
   ]
  },
  {
   "cell_type": "code",
   "execution_count": 9,
   "metadata": {},
   "outputs": [
    {
     "name": "stdout",
     "output_type": "stream",
     "text": [
      "2.19867\n"
     ]
    }
   ],
   "source": [
    "#Seleccionamos los datos de Aborbancia de las concentraciones en la tabla de datos(AbsorbanceM2=Tabla['value (M2)'])\n",
    "AbsorbanceM2=Tabla['value (M2)']\n",
    "AbsorbanceM3=Tabla['value (M3)']\n",
    "AbsorbanceM4=Tabla['value (M4)']\n",
    "AbsorbanceM5=Tabla['value (M5)']\n",
    "AbsorbanceM6=Tabla['value (M6)']\n",
    "#Encontramos valores de absorbancia máximo en cada espectro de concentración\n",
    "MaxAbM1= max(AbsorbanceM1)\n",
    "print(MaxAbM1)\n",
    "MaxAbM2= max(AbsorbanceM2)\n",
    "MaxAbM3= max(AbsorbanceM3)\n",
    "MaxAbM4= max(AbsorbanceM4)\n",
    "MaxAbM5= max(AbsorbanceM5)\n",
    "MaxAbM6= max(AbsorbanceM6)"
   ]
  },
  {
   "cell_type": "code",
   "execution_count": 6,
   "metadata": {},
   "outputs": [],
   "source": [
    "Absorbances= np.array([MaxAbM6, MaxAbM5, MaxAbM4, MaxAbM3, MaxAbM2, MaxAbM1])#Almacenamos los valores máximos de absorbancia en un arreglo\n",
    "Concentrations= np.array([0.0022, 0.0044, 0.0089, 0.018, 0.036, 0.07]) #Almacenamos las concentraciones (mg/ml) tomadas en un arreglo\" "
   ]
  },
  {
   "cell_type": "code",
   "execution_count": 7,
   "metadata": {},
   "outputs": [
    {
     "data": {
      "text/html": [
       "<div>\n",
       "<style scoped>\n",
       "    .dataframe tbody tr th:only-of-type {\n",
       "        vertical-align: middle;\n",
       "    }\n",
       "\n",
       "    .dataframe tbody tr th {\n",
       "        vertical-align: top;\n",
       "    }\n",
       "\n",
       "    .dataframe thead th {\n",
       "        text-align: right;\n",
       "    }\n",
       "</style>\n",
       "<table border=\"1\" class=\"dataframe\">\n",
       "  <thead>\n",
       "    <tr style=\"text-align: right;\">\n",
       "      <th></th>\n",
       "      <th>Concentrations (mg/ml)</th>\n",
       "      <th>Absorbances</th>\n",
       "    </tr>\n",
       "  </thead>\n",
       "  <tbody>\n",
       "    <tr>\n",
       "      <th>0</th>\n",
       "      <td>0.0022</td>\n",
       "      <td>0.13433</td>\n",
       "    </tr>\n",
       "    <tr>\n",
       "      <th>1</th>\n",
       "      <td>0.0044</td>\n",
       "      <td>0.22800</td>\n",
       "    </tr>\n",
       "    <tr>\n",
       "      <th>2</th>\n",
       "      <td>0.0089</td>\n",
       "      <td>0.38867</td>\n",
       "    </tr>\n",
       "    <tr>\n",
       "      <th>3</th>\n",
       "      <td>0.0180</td>\n",
       "      <td>0.69367</td>\n",
       "    </tr>\n",
       "    <tr>\n",
       "      <th>4</th>\n",
       "      <td>0.0360</td>\n",
       "      <td>1.32533</td>\n",
       "    </tr>\n",
       "    <tr>\n",
       "      <th>5</th>\n",
       "      <td>0.0700</td>\n",
       "      <td>2.19867</td>\n",
       "    </tr>\n",
       "  </tbody>\n",
       "</table>\n",
       "</div>"
      ],
      "text/plain": [
       "   Concentrations (mg/ml)  Absorbances\n",
       "0                  0.0022      0.13433\n",
       "1                  0.0044      0.22800\n",
       "2                  0.0089      0.38867\n",
       "3                  0.0180      0.69367\n",
       "4                  0.0360      1.32533\n",
       "5                  0.0700      2.19867"
      ]
     },
     "execution_count": 7,
     "metadata": {},
     "output_type": "execute_result"
    }
   ],
   "source": [
    "#Creamos el DataFrame que relaciona cada concentración con su punto máximo de absorbancia\n",
    "Abosorbancemax = pd.DataFrame()\n",
    "Abosorbancemax['Concentrations (mg/ml)']= Concentrations\n",
    "Abosorbancemax['Absorbances']= Absorbances\n",
    "Abosorbancemax"
   ]
  },
  {
   "cell_type": "code",
   "execution_count": 8,
   "metadata": {},
   "outputs": [
    {
     "data": {
      "image/png": "[encoded data removed]",
      "text/plain": [
       "<Figure size 640x480 with 1 Axes>"
      ]
     },
     "metadata": {},
     "output_type": "display_data"
    }
   ],
   "source": [
    "#Graficamos concentración vs punto máximo de absorbancia\n",
    "plt.figure() \n",
    "plt.plot(Absorbances, Concentrations,\"o\")\n",
    "plt.title('Ibuprofen')\n",
    "plt.xlabel('Concentration (mg/ml)')\n",
    "plt.ylabel('Absorbance')\n",
    "plt.show()"
   ]
  },
  {
   "attachments": {},
   "cell_type": "markdown",
   "metadata": {},
   "source": [
    "Regresión Lineal"
   ]
  },
  {
   "cell_type": "code",
   "execution_count": 9,
   "metadata": {},
   "outputs": [],
   "source": [
    "from sklearn.linear_model import LinearRegression #Importar libreria referente al modelo de regresión lineal"
   ]
  },
  {
   "cell_type": "code",
   "execution_count": 10,
   "metadata": {},
   "outputs": [],
   "source": [
    "Concentrations= np.array([0.0022, 0.0044, 0.0089, 0.018, 0.036, 0.07]).reshape((-1,1)) #Normalizamos el arreglo de concentraciones"
   ]
  },
  {
   "cell_type": "code",
   "execution_count": 11,
   "metadata": {},
   "outputs": [],
   "source": [
    "#Entrenamos el modelo con los valores de Concentración y Absorbancia\n",
    "model = LinearRegression()\n",
    "model.fit(Concentrations, Absorbances) \n",
    "model = LinearRegression().fit(Concentrations, Absorbances)  "
   ]
  },
  {
   "cell_type": "code",
   "execution_count": 12,
   "metadata": {},
   "outputs": [
    {
     "data": {
      "image/png": "[encoded data removed]",
      "text/plain": [
       "<Figure size 640x480 with 1 Axes>"
      ]
     },
     "metadata": {},
     "output_type": "display_data"
    }
   ],
   "source": [
    "#Graficamos los resultados del modelo\n",
    "plt.scatter(Concentrations, Absorbances,color='g')\n",
    "plt.plot(Concentrations, model.predict(Concentrations),color='g')\n",
    "plt.xlabel('Concentration (mg/ml)')\n",
    "plt.ylabel('Absorbance')\n",
    "plt.show()"
   ]
  },
  {
   "cell_type": "code",
   "execution_count": 13,
   "metadata": {},
   "outputs": [
    {
     "name": "stdout",
     "output_type": "stream",
     "text": [
      "Coeficiente de determinación: 0.994098875617843\n",
      "Intercepto: 0.11726643211288201\n",
      "Pendiente: [30.57398858]\n"
     ]
    }
   ],
   "source": [
    "#Métricas obtenidas del modelo\n",
    "r_sq = model.score(Concentrations, Absorbances) #Coeficiente de determinación\n",
    "print(f\"Coeficiente de determinación: {r_sq}\") \n",
    "print(f\"Intercepto: {model.intercept_}\") #Intercepto\n",
    "print(f\"Pendiente: {model.coef_}\") #Pendiente"
   ]
  },
  {
   "attachments": {},
   "cell_type": "markdown",
   "metadata": {},
   "source": [
    "Con esto, obtenemos la ecuación que nos permitirá determinar la concentración de Ibuprofeno en solución por medio de Espectrofometría UV-VIS, conociendo el punto máximo de absorbancia en el espectro"
   ]
  },
  {
   "attachments": {},
   "cell_type": "markdown",
   "metadata": {},
   "source": [
    "Concentration (mg/ml)= (Absorbance Max - 0,12) / 3,57"
   ]
  }
 ],
 "metadata": {
  "kernelspec": {
   "display_name": "Python 3",
   "language": "python",
   "name": "python3"
  },
  "language_info": {
   "codemirror_mode": {
    "name": "ipython",
    "version": 3
   },
   "file_extension": ".py",
   "mimetype": "text/x-python",
   "name": "python",
   "nbconvert_exporter": "python",
   "pygments_lexer": "ipython3",
   "version": "3.10.7"
  },
  "orig_nbformat": 4,
  "vscode": {
   "interpreter": {
    "hash": "369f2c481f4da34e4445cda3fffd2e751bd1c4d706f27375911949ba6bb62e1c"
   }
  }
 },
 "nbformat": 4,
 "nbformat_minor": 2
}
