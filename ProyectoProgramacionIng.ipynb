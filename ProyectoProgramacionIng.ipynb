{
 "cells": [
  {
   "attachments": {},
   "cell_type": "markdown",
   "metadata": {},
   "source": [
    "Proyecto"
   ]
  },
  {
   "cell_type": "code",
   "execution_count": 1,
   "metadata": {},
   "outputs": [],
   "source": [
    "#Improtamos las librerias\n",
    "import matplotlib.pyplot as plt\n",
    "import pandas as pd\n",
    "import numpy as np"
   ]
  },
  {
   "cell_type": "code",
   "execution_count": 2,
   "metadata": {},
   "outputs": [
    {
     "data": {
      "text/html": [
       "<div>\n",
       "<style scoped>\n",
       "    .dataframe tbody tr th:only-of-type {\n",
       "        vertical-align: middle;\n",
       "    }\n",
       "\n",
       "    .dataframe tbody tr th {\n",
       "        vertical-align: top;\n",
       "    }\n",
       "\n",
       "    .dataframe thead th {\n",
       "        text-align: right;\n",
       "    }\n",
       "</style>\n",
       "<table border=\"1\" class=\"dataframe\">\n",
       "  <thead>\n",
       "    <tr style=\"text-align: right;\">\n",
       "      <th></th>\n",
       "      <th>wavelength</th>\n",
       "      <th>value (M1)</th>\n",
       "      <th>value (M2)</th>\n",
       "      <th>value (M3)</th>\n",
       "      <th>value (M4)</th>\n",
       "      <th>value (M5)</th>\n",
       "      <th>value (M6)</th>\n",
       "    </tr>\n",
       "  </thead>\n",
       "  <tbody>\n",
       "    <tr>\n",
       "      <th>0</th>\n",
       "      <td>220</td>\n",
       "      <td>2.19867</td>\n",
       "      <td>1.32533</td>\n",
       "      <td>0.69367</td>\n",
       "      <td>0.38867</td>\n",
       "      <td>0.22733</td>\n",
       "      <td>0.13433</td>\n",
       "    </tr>\n",
       "    <tr>\n",
       "      <th>1</th>\n",
       "      <td>221</td>\n",
       "      <td>2.19867</td>\n",
       "      <td>1.32400</td>\n",
       "      <td>0.69100</td>\n",
       "      <td>0.38667</td>\n",
       "      <td>0.22800</td>\n",
       "      <td>0.13267</td>\n",
       "    </tr>\n",
       "    <tr>\n",
       "      <th>2</th>\n",
       "      <td>222</td>\n",
       "      <td>2.19867</td>\n",
       "      <td>1.30900</td>\n",
       "      <td>0.68200</td>\n",
       "      <td>0.38167</td>\n",
       "      <td>0.22467</td>\n",
       "      <td>0.13000</td>\n",
       "    </tr>\n",
       "    <tr>\n",
       "      <th>3</th>\n",
       "      <td>223</td>\n",
       "      <td>2.19867</td>\n",
       "      <td>1.28867</td>\n",
       "      <td>0.66967</td>\n",
       "      <td>0.37433</td>\n",
       "      <td>0.21967</td>\n",
       "      <td>0.12767</td>\n",
       "    </tr>\n",
       "    <tr>\n",
       "      <th>4</th>\n",
       "      <td>224</td>\n",
       "      <td>2.18800</td>\n",
       "      <td>1.26400</td>\n",
       "      <td>0.65667</td>\n",
       "      <td>0.36600</td>\n",
       "      <td>0.21400</td>\n",
       "      <td>0.12533</td>\n",
       "    </tr>\n",
       "  </tbody>\n",
       "</table>\n",
       "</div>"
      ],
      "text/plain": [
       "   wavelength  value (M1)  value (M2)  value (M3)  value (M4)  value (M5)  \\\n",
       "0         220     2.19867     1.32533     0.69367     0.38867     0.22733   \n",
       "1         221     2.19867     1.32400     0.69100     0.38667     0.22800   \n",
       "2         222     2.19867     1.30900     0.68200     0.38167     0.22467   \n",
       "3         223     2.19867     1.28867     0.66967     0.37433     0.21967   \n",
       "4         224     2.18800     1.26400     0.65667     0.36600     0.21400   \n",
       "\n",
       "   value (M6)  \n",
       "0     0.13433  \n",
       "1     0.13267  \n",
       "2     0.13000  \n",
       "3     0.12767  \n",
       "4     0.12533  "
      ]
     },
     "execution_count": 2,
     "metadata": {},
     "output_type": "execute_result"
    }
   ],
   "source": [
    "Tabla = pd.read_excel('medidas.xlsx') #Se utliza la libreria pandas para crear el dataframe\n",
    "Tabla.head()"
   ]
  },
  {
   "attachments": {},
   "cell_type": "markdown",
   "metadata": {},
   "source": [
    "Visualización del espectro UV del Ibuprofeno"
   ]
  },
  {
   "cell_type": "code",
   "execution_count": 3,
   "metadata": {},
   "outputs": [],
   "source": [
    "AbsorbanceM1=Tabla['value (M1)']   #Seleccionamos los datos de Aborbancia de la concentración 1 en la tabla de datos\n",
    "wavelength = Tabla['wavelength']  #Seleccionamos los datos de Longitud de Onda de la concentración 1 en la tabla de datos"
   ]
  },
  {
   "cell_type": "code",
   "execution_count": 4,
   "metadata": {},
   "outputs": [
    {
     "data": {
      "image/png": "[encoded data removed]",
      "text/plain": [
       "<Figure size 640x480 with 1 Axes>"
      ]
     },
     "metadata": {},
     "output_type": "display_data"
    }
   ],
   "source": [
    "#Graficamos el Espectro UV del Ibuprofeno en una conentración de 0,7 mg/ml\n",
    "plt.figure() \n",
    "plt.plot(wavelength, AbsorbanceM1, color='red', linestyle='solid')\n",
    "plt.title('Ibuprofen')\n",
    "plt.xlabel('λ (nm)')\n",
    "plt.ylabel('Absorbance')\n",
    "plt.show()"
   ]
  }
 ],
 "metadata": {
  "kernelspec": {
   "display_name": "Python 3",
   "language": "python",
   "name": "python3"
  },
  "language_info": {
   "codemirror_mode": {
    "name": "ipython",
    "version": 3
   },
   "file_extension": ".py",
   "mimetype": "text/x-python",
   "name": "python",
   "nbconvert_exporter": "python",
   "pygments_lexer": "ipython3",
   "version": "3.10.7"
  },
  "orig_nbformat": 4,
  "vscode": {
   "interpreter": {
    "hash": "369f2c481f4da34e4445cda3fffd2e751bd1c4d706f27375911949ba6bb62e1c"
   }
  }
 },
 "nbformat": 4,
 "nbformat_minor": 2
}
