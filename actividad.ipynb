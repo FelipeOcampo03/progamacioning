{
 "cells": [
  {
   "cell_type": "code",
   "execution_count": null,
   "metadata": {},
   "outputs": [],
   "source": [
    "import numpy as np\n",
    "import matplotlib.pylab as plt\n",
    "from scipy import signal as sp\n",
    "# Importamos todo el modulo sympy\n",
    "from sympy import *\n",
    "# Importamos las variables simbolicas 'n' y 't',\n",
    "from sympy.abc import n,t"
   ]
  },
  {
   "cell_type": "code",
   "execution_count": null,
   "metadata": {},
   "outputs": [],
   "source": [
    "T = 2*pi #Periodo\n",
    "w = (2*pi)/T #Frecuencia angular\n",
    "amplitud = 1 #Amplitud\n",
    "tiempo = np.arange(-np.pi, np.pi, 0.01) #Tiempo\n",
    "FuncionTramos = (sp.square(tiempo + 1.57 )*amplitud) + amplitud/100 #Onda cuadrada\n",
    "\n",
    "# Graficamos la onda cuadrada\n",
    "plt.plot(tiempo, FuncionTramos, lw=2)\n",
    "plt.grid()\n",
    "plt.annotate('T/2', xy = (np.pi, -1), xytext = (np.pi, -1.01))\n",
    "plt.annotate('T/4', xy = (np.pi /4, -1), xytext = (np.pi /4, -1.01))\n",
    "plt.ylabel('Amplitud')\n",
    "plt.xlabel('tiempo(t)')\n",
    "plt.show()"
   ]
  },
  {
   "cell_type": "code",
   "execution_count": null,
   "metadata": {},
   "outputs": [],
   "source": [
    "# Integramos la funcion\n",
    "#Limites de integración dados en el ejercicio\n",
    "ao = (2/T)*(integrate(-1, (t, -T/2, -T/4)) + integrate(1, (t, -T/4, T/4)) + integrate(-1, (t, T/4, T/2)))\n",
    "\n",
    "print(\"a0 = \")\n",
    "pprint(ao)\n",
    "print('\\n')\n",
    "\n",
    "# Integramos la funcion\n",
    "an = (2/T)*(integrate(-cos(n*w*t), (t, -T/2, -T/4)) + integrate(cos(n*w*t), (t, -T/4, T/4)) + integrate(-cos(n*w*t), (t, T/4, T/2)))\n",
    "\n",
    "print(\"an = \")\n",
    "pprint(an)\n",
    "\n",
    "# Integramos la funcion\n",
    "bn = (2/T)*(integrate(-sin(n*w*t), (t, -T/2, -T/4)) + integrate(sin(n*w*t), (t, -T/4, T/4)) + integrate(-sin(n*w*t), (t, T/4, T/2)))\n",
    "\n",
    "print(\"bn = \")\n",
    "pprint(bn)"
   ]
  },
  {
   "cell_type": "code",
   "execution_count": null,
   "metadata": {},
   "outputs": [],
   "source": [
    "print( \"f(x) = \")\n",
    "\n",
    "ncoef = 16\n",
    "serie = (ao)/2\n",
    "for i in range(1, ncoef + 1):\n",
    "    serie = serie + (an*cos(n*w*t)).subs(n, i)\n",
    "for j in range(1, ncoef + 1):\n",
    "    serie = serie + (bn*sin(n*w*t)).subs(n, j)\n",
    "\n",
    "pprint(serie)"
   ]
  },
  {
   "cell_type": "code",
   "execution_count": null,
   "metadata": {},
   "outputs": [],
   "source": [
    "serie1 = (4 * np.cos(tiempo)) / np.pi\n",
    "plt.plot(tiempo, serie1, 'grey', label = '(4 *cos(tiempo)) /pi)')\n",
    "plt.plot(tiempo, FuncionTramos, lw=2)\n",
    "plt.show()\n",
    "\n",
    "serie2 = ((4 * np.cos(tiempo*3)) / 3*np.pi)\n",
    "plt.plot(tiempo, serie2, 'blue', label = '(4 *cos(tiempo*3)) / 3*pi)')\n",
    "\n",
    "serie3 = -((4 * np.cos(5*tiempo)) / (5*np.pi))\n",
    "plt.plot(tiempo, serie3, 'magenta', label = '(4 *cos(5*tiempo)) / (5*pi)')\n",
    "\n",
    "serie4 = (4* np.cos(7*tiempo)) / (7*np.pi)\n",
    "plt.plot(tiempo, serie4, 'red', label = '(4*cos(7*tiempo)) / (7*pi)')\n",
    "\n",
    "serie5= -((4 * np.cos(9*tiempo)) / (9*np.pi))\n",
    "plt.plot(tiempo, serie5, 'green', label = '(4 *cos(9*tiempo)) / (9*pi)')\n",
    "\n",
    "serie6 = (4 * np.cos(11*tiempo)) / (11*np.pi)\n",
    "plt.plot(tiempo, serie6, 'violet', label = '(4 *cos(11*tiempo)) / (11*pi)')\n",
    "\n",
    "serie7 = (-4 * np.cos(13*tiempo)) / (13*np.pi)\n",
    "plt.plot(tiempo, serie7, 'violet', label = '(4 *cos(13*tiempo)) / (13*pi)')\n",
    "\n",
    "serie8 = -((4 * np.cos(15*tiempo)) / (15*np.pi))\n",
    "plt.plot(tiempo, serie8, 'violet', label = '(4 *cos(15*tiempo)) / (15*pi)')\n",
    "\n",
    "\n",
    "serieFourier = serie1 + serie2 + serie3 + serie4 + serie5 + serie6 + serie7 + serie8\n",
    "plt.plot(tiempo, serieFourier, 'orange')\n",
    "plt.show()\n"
   ]
  },
  {
   "cell_type": "code",
   "execution_count": null,
   "metadata": {},
   "outputs": [],
   "source": [
    "plt.axhline(y = 0.5, label = '1/2')\n",
    "\n",
    "serie1 = (4 * np.cos(tiempo)) / np.pi\n",
    "plt.plot(tiempo, serie1, 'grey', label = '(4 *cos(tiempo)) /pi)')\n",
    "plt.plot(tiempo, FuncionTramos, lw=2)\n",
    "\n",
    "\n",
    "serie2 = -((4 * np.cos(tiempo*3)) / (3*np.pi))\n",
    "plt.plot(tiempo, serie2, 'blue', label = '(4 *cos(tiempo*3)) / 3*pi)')\n",
    "\n",
    "serie3 = (4 * np.cos(5*tiempo)) / (5*np.pi)\n",
    "plt.plot(tiempo, serie3, 'magenta', label = '(4 *cos(5*tiempo)) / (5*pi)')\n",
    "\n",
    "serie4 = -((4* np.cos(7*tiempo)) / (7*np.pi))\n",
    "plt.plot(tiempo, serie4, 'red', label = '(4*cos(7*tiempo)) / (7*pi)')\n",
    "\n",
    "serie5= (4 * np.cos(9*tiempo)) / (9*np.pi)\n",
    "plt.plot(tiempo, serie5, 'green', label = '(4 *cos(9*tiempo)) / (9*pi)')\n",
    "\n",
    "serie6 = -((4 * np.cos(11*tiempo)) / (11*np.pi))\n",
    "plt.plot(tiempo, serie6, 'violet', label = '(4 *cos(11*tiempo)) / (11*pi)')\n",
    "\n",
    "serie7 = (4 * np.cos(13*tiempo)) / (13*np.pi)\n",
    "plt.plot(tiempo, serie7, 'violet', label = '(4 *cos(13*tiempo)) / (13*pi)')\n",
    "\n",
    "serie8 = -((4 * np.cos(15*tiempo)) / (15*np.pi))\n",
    "plt.plot(tiempo, serie8, 'violet', label = '(4 *cos(15*tiempo)) / (15*pi)')\n",
    "\n",
    "\n",
    "serieFourier = serie1 + serie2 + serie3 + serie4 + serie5 + serie6 + serie7 + serie8\n",
    "\n",
    "plt.plot(tiempo, serieFourier, 'orange')"
   ]
  },
  {
   "cell_type": "code",
   "execution_count": null,
   "metadata": {},
   "outputs": [],
   "source": [
    "plt.plot(tiempo, FuncionTramos, 'black', label = 'f(t)')\n",
    "etiqueta = 'coeficientes = '+ str(ncoef )\n",
    "serieFourier = serie1 + serie2 + serie3 + serie4 + serie5 + serie6 + serie7 + serie8\n",
    "plt.plot(tiempo, serieFourier, 'orange', label = etiqueta)\n",
    "plt.title('Serie de Fourier')\n",
    "plt.xlabel('time(t)')\n",
    "plt.ylabel('Amplitude')\n",
    "plt.legend(loc = \"lower left\")"
   ]
  }
 ],
 "metadata": {
  "kernelspec": {
   "display_name": "Python 3",
   "language": "python",
   "name": "python3"
  },
  "language_info": {
   "name": "python",
   "version": "3.10.7"
  },
  "orig_nbformat": 4,
  "vscode": {
   "interpreter": {
    "hash": "369f2c481f4da34e4445cda3fffd2e751bd1c4d706f27375911949ba6bb62e1c"
   }
  }
 },
 "nbformat": 4,
 "nbformat_minor": 2
}
